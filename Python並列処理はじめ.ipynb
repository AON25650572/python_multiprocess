{
 "cells": [
  {
   "cell_type": "markdown",
   "id": "23a413ab-2bf6-4cf9-b8c8-9f5a66de53ca",
   "metadata": {},
   "source": [
    "# Python並列処理はじめ\n",
    "[Pythonの並列処理・並行処理をしっかり調べてみた](https://qiita.com/simonritchie/items/1ce3914eb5444d2157ac#%E4%B8%A6%E5%88%97%E5%87%A6%E7%90%86)"
   ]
  },
  {
   "cell_type": "code",
   "execution_count": 5,
   "id": "283eedd9-0600-47c7-a64f-547cef06cb2f",
   "metadata": {},
   "outputs": [],
   "source": [
    "from multiprocessing import Pool"
   ]
  },
  {
   "cell_type": "code",
   "execution_count": 2,
   "id": "3db1bcc1-3e8e-469e-931b-ae85a38f9157",
   "metadata": {},
   "outputs": [],
   "source": [
    "def sample_func(process_index):\n",
    "    print('process index: %s started.' % process_index)\n",
    "    num = 0\n",
    "\n",
    "    for i in range(10000000):\n",
    "        num += 1\n",
    "    print('process index: %s ended.' % process_index)"
   ]
  },
  {
   "cell_type": "code",
   "execution_count": 3,
   "id": "12c0ec40-d0eb-412d-8bf0-891eb1736acd",
   "metadata": {},
   "outputs": [
    {
     "name": "stdout",
     "output_type": "stream",
     "text": [
      "process index: 0 started.\n",
      "process index: 0 ended.\n",
      "process index: 1 started.\n",
      "process index: 1 ended.\n",
      "process index: 2 started.\n",
      "process index: 2 ended.\n",
      "process index: 3 started.\n",
      "process index: 3 ended.\n",
      "process index: 4 started.\n",
      "process index: 4 ended.\n",
      "process index: 5 started.\n",
      "process index: 5 ended.\n",
      "process index: 6 started.\n",
      "process index: 6 ended.\n",
      "process index: 7 started.\n",
      "process index: 7 ended.\n",
      "process index: 8 started.\n",
      "process index: 8 ended.\n",
      "process index: 9 started.\n",
      "process index: 9 ended.\n",
      "CPU times: user 2.62 s, sys: 0 ns, total: 2.62 s\n",
      "Wall time: 2.62 s\n"
     ]
    }
   ],
   "source": [
    "%%time\n",
    "for i in range(10):\n",
    "    sample_func(process_index=i)"
   ]
  },
  {
   "cell_type": "code",
   "execution_count": 24,
   "id": "3ca9fb1f-89c5-4cac-a296-97e77d6fb017",
   "metadata": {},
   "outputs": [
    {
     "name": "stdout",
     "output_type": "stream",
     "text": [
      "CPU times: user 3 µs, sys: 0 ns, total: 3 µs\n",
      "Wall time: 3.58 µs\n"
     ]
    }
   ],
   "source": [
    "%%time\n",
    "def sample_func(initial_num):\n",
    "    for i in range(1000000):\n",
    "        initial_num += 1\n",
    "    return initial_num"
   ]
  },
  {
   "cell_type": "code",
   "execution_count": 25,
   "id": "21ee79e7-5edb-4da8-ba9d-351f54e604fe",
   "metadata": {},
   "outputs": [],
   "source": [
    "initial_num_list = list(range(1000))"
   ]
  },
  {
   "cell_type": "code",
   "execution_count": 26,
   "id": "7135aa16-7f9b-49b2-88cf-c5af48450fab",
   "metadata": {
    "tags": []
   },
   "outputs": [
    {
     "name": "stdout",
     "output_type": "stream",
     "text": [
      "[1000000, 1000001, 1000002, 1000003, 1000004, 1000005, 1000006, 1000007, 1000008, 1000009]\n",
      "CPU times: user 3.55 ms, sys: 12.3 ms, total: 15.8 ms\n",
      "Wall time: 6.99 s\n"
     ]
    }
   ],
   "source": [
    "%%time\n",
    "with Pool(processes=4) as p:\n",
    "    result_list = p.map(func=sample_func, iterable=initial_num_list)\n",
    "print(result_list[:10])"
   ]
  },
  {
   "cell_type": "code",
   "execution_count": 27,
   "id": "0f2435e9-2901-4033-a994-28cac95ab754",
   "metadata": {},
   "outputs": [
    {
     "name": "stdout",
     "output_type": "stream",
     "text": [
      "[1000000, 1000001, 1000002, 1000003, 1000004, 1000005, 1000006, 1000007, 1000008, 1000009]\n",
      "CPU times: user 26.5 s, sys: 1.13 ms, total: 26.5 s\n",
      "Wall time: 26.5 s\n"
     ]
    }
   ],
   "source": [
    "%%time\n",
    "result_list = []\n",
    "for i in initial_num_list:\n",
    "    result_list.append(sample_func(i))\n",
    "print(result_list[:10])"
   ]
  }
 ],
 "metadata": {
  "kernelspec": {
   "display_name": "Python 3 (ipykernel)",
   "language": "python",
   "name": "python3"
  },
  "language_info": {
   "codemirror_mode": {
    "name": "ipython",
    "version": 3
   },
   "file_extension": ".py",
   "mimetype": "text/x-python",
   "name": "python",
   "nbconvert_exporter": "python",
   "pygments_lexer": "ipython3",
   "version": "3.8.8"
  }
 },
 "nbformat": 4,
 "nbformat_minor": 5
}
